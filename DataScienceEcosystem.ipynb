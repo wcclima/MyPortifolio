{
 "cells": [
  {
   "cell_type": "markdown",
   "id": "7f41019f-97fe-473c-a874-48f01adc0dc3",
   "metadata": {},
   "source": [
    "# **Data Science Tools and Ecosystem**"
   ]
  },
  {
   "cell_type": "markdown",
   "id": "76ff19b8-622d-47e7-8679-a25e129f5963",
   "metadata": {},
   "source": [
    "In this notebook, Data Science Tools and Ecosystem are summarized."
   ]
  },
  {
   "cell_type": "markdown",
   "id": "77ebf777-a480-4938-a68b-59e0f8c439d7",
   "metadata": {},
   "source": [
    "**Objectives:**\n",
    "    \n",
    "    - List popular coding languages amongst data scientist\n",
    "    - List commonly used libraries in Data Science\n",
    "    - List popular Data Science tools\n",
    "    - Perform an arithmetic operations using Python"
   ]
  },
  {
   "cell_type": "markdown",
   "id": "51b97a4e-ba6b-4d08-955d-c3c0cfd1b40d",
   "metadata": {},
   "source": [
    "Some of the popular languages that Data Scientists use are:\n",
    "    \n",
    "    1. Python\n",
    "    2. R\n",
    "    3. C++\n",
    "    4. Julia\n",
    "    5. Java"
   ]
  },
  {
   "cell_type": "markdown",
   "id": "e7bbd251-3ae5-4b13-bbb6-b57285fc0866",
   "metadata": {
    "tags": []
   },
   "source": [
    "Some of the commonly used libraries used by Data Scientists include:\n",
    "    \n",
    "    1. Pandas\n",
    "    2. NumPy\n",
    "    3. SciPy\n",
    "    4. Matplotlib\n",
    "    5. Tensorsflow"
   ]
  },
  {
   "cell_type": "markdown",
   "id": "0d7be9f7-b85c-4010-b570-fb6a2b97edb7",
   "metadata": {},
   "source": [
    "|Data Science Tools|\n",
    "|------------------|\n",
    "|Jupyterlab|\n",
    "|RStudio|\n",
    "|TensorFlow|"
   ]
  },
  {
   "cell_type": "markdown",
   "id": "0677771d-a7ad-4010-a917-6cf5b3d18fb7",
   "metadata": {},
   "source": [
    "### Below are a few examples of evaluating arithmetic expressions in Python:"
   ]
  },
  {
   "cell_type": "code",
   "execution_count": 4,
   "id": "830c2d20-e2b3-4980-bf73-c53ac321d4f2",
   "metadata": {
    "tags": []
   },
   "outputs": [
    {
     "data": {
      "text/plain": [
       "17"
      ]
     },
     "execution_count": 4,
     "metadata": {},
     "output_type": "execute_result"
    }
   ],
   "source": [
    "#This a simple arithmetic expression to mutiply then add integers\n",
    "\n",
    "(3*4)+5"
   ]
  },
  {
   "cell_type": "code",
   "execution_count": 5,
   "id": "8f02554a-38f2-4c17-b41a-1924817136ba",
   "metadata": {
    "tags": []
   },
   "outputs": [
    {
     "data": {
      "text/plain": [
       "3.3333333333333335"
      ]
     },
     "execution_count": 5,
     "metadata": {},
     "output_type": "execute_result"
    }
   ],
   "source": [
    "#This will convert 200 minutes to hours by diving by 60\n",
    "\n",
    "minutes = 200\n",
    "hours = minutes/60\n",
    "hours"
   ]
  },
  {
   "cell_type": "markdown",
   "id": "64f52977-9e56-48f0-ad0d-61ce8fd784c0",
   "metadata": {},
   "source": [
    "## Author\n",
    "\n",
    "William Lima"
   ]
  },
  {
   "cell_type": "code",
   "execution_count": null,
   "id": "5740943d-c17c-4923-aa49-1cc4952f3b1d",
   "metadata": {},
   "outputs": [],
   "source": []
  }
 ],
 "metadata": {
  "kernelspec": {
   "display_name": "Python 3 (ipykernel)",
   "language": "python",
   "name": "python3"
  },
  "language_info": {
   "codemirror_mode": {
    "name": "ipython",
    "version": 3
   },
   "file_extension": ".py",
   "mimetype": "text/x-python",
   "name": "python",
   "nbconvert_exporter": "python",
   "pygments_lexer": "ipython3",
   "version": "3.10.9"
  }
 },
 "nbformat": 4,
 "nbformat_minor": 5
}
